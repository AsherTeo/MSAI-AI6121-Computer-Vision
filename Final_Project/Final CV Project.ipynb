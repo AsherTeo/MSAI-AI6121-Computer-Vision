{
 "cells": [
  {
   "cell_type": "code",
   "execution_count": 1,
   "id": "67c415e9",
   "metadata": {},
   "outputs": [
    {
     "name": "stderr",
     "output_type": "stream",
     "text": [
      "C:\\Users\\User\\anaconda3\\envs\\env1\\lib\\site-packages\\tqdm\\auto.py:22: TqdmWarning: IProgress not found. Please update jupyter and ipywidgets. See https://ipywidgets.readthedocs.io/en/stable/user_install.html\n",
      "  from .autonotebook import tqdm as notebook_tqdm\n"
     ]
    }
   ],
   "source": [
    "import torch\n",
    "import torchvision\n",
    "import torchvision.datasets as datasets\n",
    "import torchvision.transforms as transforms\n",
    "import matplotlib.pyplot as plt\n",
    "import torch.nn as nn\n",
    "import torch.optim as optim\n",
    "import torch.nn.functional as F\n",
    "import numpy as np"
   ]
  },
  {
   "cell_type": "code",
   "execution_count": 2,
   "id": "2a5095fb",
   "metadata": {},
   "outputs": [
    {
     "name": "stdout",
     "output_type": "stream",
     "text": [
      "Number of training datasets:  60000\n",
      "Number of testing datasets:  10000\n"
     ]
    }
   ],
   "source": [
    "transform_train = transforms.Compose([\n",
    "    transforms.RandomCrop(28, padding=2),\n",
    "    transforms.ToTensor(),\n",
    "    transforms.Normalize((0.1307,), (0.3081,))])\n",
    "\n",
    "transform_test = transforms.Compose([\n",
    "    transforms.ToTensor(),\n",
    "    transforms.Normalize((0.1307,), (0.3081,))])\n",
    "\n",
    "\n",
    "mnist_trainset = datasets.MNIST(root='../MSAI/computer vision/', train=True, download=True, transform=transform_train)\n",
    "mnist_testset = datasets.MNIST(root='../MSAI/computer vision/', train=False, download=True, transform=transform_test)\n",
    "\n",
    "\n",
    "trainloader = torch.utils.data.DataLoader(mnist_trainset, batch_size=128, shuffle=True, num_workers=0)\n",
    "testloader = torch.utils.data.DataLoader(mnist_testset, batch_size=256, shuffle=False, num_workers=2)\n",
    "\n",
    "print('Number of training datasets: ', len(mnist_trainset))\n",
    "print('Number of testing datasets: ',len(mnist_testset))"
   ]
  },
  {
   "cell_type": "code",
   "execution_count": 3,
   "id": "46182375",
   "metadata": {},
   "outputs": [
    {
     "name": "stdout",
     "output_type": "stream",
     "text": [
      "torch.Size([128, 1, 28, 28])\n"
     ]
    },
    {
     "data": {
      "text/plain": [
       "<matplotlib.image.AxesImage at 0x1cd95d58be0>"
      ]
     },
     "execution_count": 3,
     "metadata": {},
     "output_type": "execute_result"
    },
    {
     "data": {
      "image/png": "[encoded data removed]",
      "text/plain": [
       "<Figure size 432x288 with 1 Axes>"
      ]
     },
     "metadata": {
      "needs_background": "light"
     },
     "output_type": "display_data"
    }
   ],
   "source": [
    "images, labels = next(iter(trainloader))\n",
    "print(images.shape)\n",
    "plt.imshow(images[0].reshape(28,28), cmap=\"gray\")"
   ]
  },
  {
   "cell_type": "code",
   "execution_count": 4,
   "id": "f8de9e3b",
   "metadata": {},
   "outputs": [],
   "source": [
    "class CNN(nn.Module):\n",
    "\n",
    "    def __init__(self):\n",
    "\n",
    "        super(CNN, self).__init__()\n",
    "\n",
    "       \n",
    "        self.conv_layer1 = nn.Conv2d(1, 25,  kernel_size=3,  padding=1 )\n",
    "        self.pool_layer1  = nn.MaxPool2d(2,2)\n",
    "        \n",
    "        self.conv_layer2 = nn.Conv2d(25,  100,  kernel_size=3,  padding=1 )\n",
    "        self.pool_layer2 = nn.MaxPool2d(2,2)\n",
    "    \n",
    "        self.linear_layer1 = nn.Linear(4900, 100)\n",
    "        self.linear_layer2 = nn.Linear(100,10)\n",
    "\n",
    "\n",
    "    def forward(self, x):\n",
    "\n",
    "      \n",
    "        x = self.conv_layer1(x)\n",
    "        x = F.relu(x)\n",
    "        x = self.pool_layer1(x)\n",
    "        \n",
    "        x = self.conv_layer2(x)\n",
    "        x = F.relu(x)\n",
    "        x = self.pool_layer2(x)\n",
    "\n",
    "      \n",
    "        x = x.view(-1, 4900)\n",
    "        x = self.linear_layer1(x)\n",
    "        x = F.relu(x)\n",
    "        \n",
    "        x = self.linear_layer2(x)\n",
    "    \n",
    "        return x"
   ]
  },
  {
   "cell_type": "code",
   "execution_count": 20,
   "id": "51d38c17",
   "metadata": {},
   "outputs": [],
   "source": [
    "import torchvision.models as models\n",
    "\n",
    "class MnistNet(nn.Module):\n",
    "    def __init__(self, in_channels = 1):\n",
    "        super(MnistNet, self).__init__()\n",
    "        \n",
    "        self.model = models.resnet18(pretrained = True)\n",
    "        self.model.conv1 = nn.Conv2d(in_channels, 64, kernel_size = 3, stride = 1, padding = 1)\n",
    "        linear_last = self.model.fc.in_features\n",
    "        self.model.fc = nn.Linear(linear_last, 10)\n",
    "        \n",
    "    def forward(self, x):\n",
    "        return self.model(x)"
   ]
  },
  {
   "cell_type": "code",
   "execution_count": 21,
   "id": "ea3659f9",
   "metadata": {},
   "outputs": [],
   "source": [
    "def train(epoch, net, criterion, trainloader, scheduler):\n",
    "   \n",
    "    print('\\nEpoches: %d' % epoch)\n",
    "    net.train()\n",
    "    train_loss = 0\n",
    "    correct = 0\n",
    "    total = 0\n",
    "\n",
    "    for batch_index, (inputs, target) in enumerate(trainloader):\n",
    "        #inputs, target = inputs.to('cuda'), targets.to('cuda') # if got GPU\n",
    "        inputs, target = inputs, target\n",
    "        outputs = net(inputs)\n",
    "        optimizer.zero_grad()\n",
    "        \n",
    "        loss = criterion(outputs, target)\n",
    "        loss.backward()\n",
    "        optimizer.step()\n",
    "        \n",
    "        #top_p, top_class = log_ps.topk(1, dim=1)\n",
    "        \n",
    "        train_loss += loss.item()\n",
    "        #equals = top_class.long() == labels.long().view(*top_class.shape)\n",
    "        #accuracy += torch.mean(equals.float())\n",
    "        _, predicted = outputs.max(1)\n",
    "        total += target.size(0)\n",
    "        \n",
    "        correct += predicted.eq(target).sum().item()\n",
    "        loss_per_iteration = train_loss/(batch_index + 1)\n",
    "        loss_per_iteration = np.round(loss_per_iteration,3)\n",
    "        \n",
    "        accuracy = 100 * (correct / total)\n",
    "        accuracy =  np.round(accuracy,2) \n",
    "        \n",
    "        if (batch_index +1) % 50 == 0:\n",
    "            print(\"iteration : %3d, loss : %0.4f, accuracy : %2.2f\" % (batch_index+1, train_loss/(batch_index+1), 100.*correct/total))\n",
    "\n",
    "    #scheduler.step()\n",
    "    return train_loss/(batch_index+1), 100.*correct/total"
   ]
  },
  {
   "cell_type": "code",
   "execution_count": 22,
   "id": "f556e6d7",
   "metadata": {},
   "outputs": [],
   "source": [
    "def test(epoch, net, criterion, testloader):\n",
    "    net.eval()\n",
    "    \n",
    "    test_loss = 0\n",
    "    correct = 0\n",
    "    total = 0\n",
    "    with torch.no_grad():\n",
    "        for batch_idx, (inputs, targets) in enumerate(testloader):\n",
    "            #inputs, target = inputs.to('cuda'), targets.to('cuda') # if got GPU\n",
    "            inputs, target = inputs, targets\n",
    "            outputs = net(inputs)\n",
    "            loss = criterion(outputs, target)\n",
    "\n",
    "            test_loss += loss.item()\n",
    "            _, predicted = outputs.max(1)\n",
    "            total += targets.size(0)\n",
    "            correct += predicted.eq(targets).sum().item()\n",
    "\n",
    "    return test_loss/(batch_idx+1), 100.*correct/total\n"
   ]
  },
  {
   "cell_type": "code",
   "execution_count": 23,
   "id": "06983541",
   "metadata": {},
   "outputs": [],
   "source": [
    "lr = 0.01\n",
    "momentum =0.9\n",
    "wd = 0.0005\n",
    "epochs = 200\n",
    "\n",
    "my_resnet = MnistNet()\n",
    "net = CNN() # add .to('cuda') if got GPU\n",
    "criterion = nn.CrossEntropyLoss()\n",
    "optimizer = optim.SGD(my_resnet.parameters(), lr= lr,momentum= momentum, weight_decay=wd) # change my_resnet to net if you want to change it to CNN\n",
    "scheduler = torch.optim.lr_scheduler.CosineAnnealingLR(optimizer, T_max = 200)"
   ]
  },
  {
   "cell_type": "code",
   "execution_count": null,
   "id": "b2b2ee64",
   "metadata": {},
   "outputs": [
    {
     "name": "stdout",
     "output_type": "stream",
     "text": [
      "\n",
      "Epoches: 0\n",
      "iteration :  50, loss : 2.3050, accuracy : 10.97\n",
      "iteration : 100, loss : 2.3045, accuracy : 11.35\n",
      "iteration : 150, loss : 2.3046, accuracy : 11.37\n",
      "iteration : 200, loss : 2.3052, accuracy : 11.24\n",
      "iteration : 250, loss : 2.3055, accuracy : 11.32\n",
      "iteration : 300, loss : 2.3051, accuracy : 11.34\n",
      "iteration : 350, loss : 2.3051, accuracy : 11.25\n",
      "iteration : 400, loss : 2.3053, accuracy : 11.17\n",
      "iteration : 450, loss : 2.3054, accuracy : 11.24\n",
      "Epoch :   0, training loss : 2.3055, training accuracy : 11.27, test loss : 2.3050, test accuracy : 11.74\n",
      "\n",
      "Epoches: 1\n",
      "iteration :  50, loss : 2.3059, accuracy : 10.59\n",
      "iteration : 100, loss : 2.3052, accuracy : 10.90\n",
      "iteration : 150, loss : 2.3050, accuracy : 11.04\n",
      "iteration : 200, loss : 2.3048, accuracy : 11.25\n",
      "iteration : 250, loss : 2.3049, accuracy : 11.22\n",
      "iteration : 300, loss : 2.3054, accuracy : 11.28\n",
      "iteration : 350, loss : 2.3052, accuracy : 11.28\n",
      "iteration : 400, loss : 2.3052, accuracy : 11.25\n",
      "iteration : 450, loss : 2.3053, accuracy : 11.24\n",
      "Epoch :   1, training loss : 2.3053, training accuracy : 11.22, test loss : 2.3050, test accuracy : 11.74\n",
      "\n",
      "Epoches: 2\n",
      "iteration :  50, loss : 2.3059, accuracy : 11.30\n",
      "iteration : 100, loss : 2.3061, accuracy : 11.03\n",
      "iteration : 150, loss : 2.3064, accuracy : 11.16\n",
      "iteration : 200, loss : 2.3057, accuracy : 11.27\n",
      "iteration : 250, loss : 2.3057, accuracy : 11.22\n",
      "iteration : 300, loss : 2.3060, accuracy : 11.19\n",
      "iteration : 350, loss : 2.3057, accuracy : 11.22\n",
      "iteration : 400, loss : 2.3055, accuracy : 11.27\n",
      "iteration : 450, loss : 2.3055, accuracy : 11.26\n",
      "Epoch :   2, training loss : 2.3055, training accuracy : 11.27, test loss : 2.3050, test accuracy : 11.74\n",
      "\n",
      "Epoches: 3\n",
      "iteration :  50, loss : 2.3052, accuracy : 11.28\n",
      "iteration : 100, loss : 2.3059, accuracy : 11.01\n",
      "iteration : 150, loss : 2.3062, accuracy : 11.18\n",
      "iteration : 200, loss : 2.3064, accuracy : 11.26\n",
      "iteration : 250, loss : 2.3063, accuracy : 11.24\n",
      "iteration : 300, loss : 2.3061, accuracy : 11.26\n",
      "iteration : 350, loss : 2.3059, accuracy : 11.22\n",
      "iteration : 400, loss : 2.3058, accuracy : 11.22\n",
      "iteration : 450, loss : 2.3056, accuracy : 11.19\n",
      "Epoch :   3, training loss : 2.3055, training accuracy : 11.22, test loss : 2.3050, test accuracy : 11.74\n",
      "\n",
      "Epoches: 4\n",
      "iteration :  50, loss : 2.3074, accuracy : 11.50\n",
      "iteration : 100, loss : 2.3058, accuracy : 11.47\n",
      "iteration : 150, loss : 2.3047, accuracy : 11.44\n",
      "iteration : 200, loss : 2.3052, accuracy : 11.38\n"
     ]
    }
   ],
   "source": [
    "config = {\n",
    "    'lr': 0.01,\n",
    "    'momentum': 0.9,\n",
    "    'weight_decay': 0.0005\n",
    "}\n",
    "\n",
    "train_loss_list = []\n",
    "train_acc_list  = []\n",
    "test_loss_list  = []\n",
    "test_acc_list  = []\n",
    "\n",
    "\n",
    "#net = CNN().to('cuda')\n",
    "\n",
    "#criterion = nn.CrossEntropyLoss().to('cuda')\n",
    "#criterion = nn.MSELoss().to('cuda')\n",
    "#optimizer = optim.AdamW(net.parameters(), lr=config['lr'], weight_decay=config['weight_decay'])\n",
    "\n",
    "#optimizer = optim.SGD(net.parameters(), lr=config['lr'],\n",
    "                     #momentum=config['momentum'], weight_decay=config['weight_decay'])\n",
    "#scheduler = torch.optim.lr_scheduler.CosineAnnealingLR(optimizer, T_max = 200)\n",
    "#print(scheduler)\n",
    "for epoch in range(0, epochs):\n",
    "    train_loss, train_acc = train(epoch, net, criterion, trainloader, scheduler)\n",
    "    test_loss, test_acc = test(epoch, net, criterion, testloader)\n",
    "    \n",
    "    print((\"Epoch : %3d, training loss : %0.4f, training accuracy : %2.2f, test loss \" + \\\n",
    "      \": %0.4f, test accuracy : %2.2f\") % (epoch, train_loss, train_acc, test_loss, test_acc))\n",
    "    \n",
    "    train_loss_list.append(train_loss)\n",
    "    test_loss_list.append(test_loss)\n",
    "    train_acc_list.append(train_acc)\n",
    "    test_acc_list.append(test_acc)"
   ]
  },
  {
   "cell_type": "code",
   "execution_count": 16,
   "id": "b527b616",
   "metadata": {},
   "outputs": [
    {
     "data": {
      "image/png": "[encoded data removed]",
      "text/plain": [
       "<Figure size 432x288 with 1 Axes>"
      ]
     },
     "metadata": {
      "needs_background": "light"
     },
     "output_type": "display_data"
    }
   ],
   "source": [
    "plt.plot(range(len(train_loss_list)), train_loss_list, 'b')\n",
    "plt.plot(range(len(test_loss_list)), test_loss_list, 'r')\n",
    "plt.xlabel(\"No. of epochs\")\n",
    "plt.ylabel(\"Losses\")\n",
    "plt.title(\"Losses vs No. of epochs\")\n",
    "plt.legend(['train', 'test'])\n",
    "plt.show()"
   ]
  },
  {
   "cell_type": "code",
   "execution_count": 17,
   "id": "178ea03f",
   "metadata": {},
   "outputs": [
    {
     "data": {
      "image/png": "[encoded data removed]",
      "text/plain": [
       "<Figure size 432x288 with 1 Axes>"
      ]
     },
     "metadata": {
      "needs_background": "light"
     },
     "output_type": "display_data"
    }
   ],
   "source": [
    "plt.plot(range(len(train_acc_list)), train_acc_list, 'b')\n",
    "plt.plot(range(len(test_acc_list)), test_acc_list, 'r')\n",
    "plt.xlabel(\"No. of epochs\")\n",
    "plt.ylabel(\"Accuracy\")\n",
    "plt.title(\"Accuracy vs No.of epochs\")\n",
    "plt.legend(['train', 'test'])\n",
    "plt.show()"
   ]
  },
  {
   "cell_type": "code",
   "execution_count": null,
   "id": "68954b50",
   "metadata": {},
   "outputs": [],
   "source": []
  }
 ],
 "metadata": {
  "kernelspec": {
   "display_name": "Python 3",
   "language": "python",
   "name": "python3"
  },
  "language_info": {
   "codemirror_mode": {
    "name": "ipython",
    "version": 3
   },
   "file_extension": ".py",
   "mimetype": "text/x-python",
   "name": "python",
   "nbconvert_exporter": "python",
   "pygments_lexer": "ipython3",
   "version": "3.6.13"
  }
 },
 "nbformat": 4,
 "nbformat_minor": 5
}
