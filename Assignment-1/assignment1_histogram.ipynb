{
 "cells": [
  {
   "cell_type": "code",
   "execution_count": 26,
   "id": "9245427d",
   "metadata": {},
   "outputs": [
    {
     "name": "stdout",
     "output_type": "stream",
     "text": [
      "sample1_HE.jpg\n"
     ]
    }
   ],
   "source": [
    "import matplotlib.pyplot as plot\n",
    "import numpy as np\n",
    "import cv2\n",
    "import glob\n",
    "import os\n",
    "\n",
    "path = 'C:/Users/User/Desktop/MSAI/computer vision/a/'\n",
    "save_path = 'C:/Users/User/Desktop/MSAI/computer vision/CVV/'\n",
    "\n",
    "for image in glob.glob(path + \"/*.JPG\"):\n",
    "    filename = os.path.basename(image)\n",
    "    new_filename = filename[:-4] + \"_HE\" + filename[-4:] #change to [-5:] if the images are in JPEG format\n",
    "    print(new_filename)\n",
    "    img = cv2.imread(image)\n",
    "    ycbcr = cv2.cvtColor(img, cv2.COLOR_BGR2YUV)\n",
    "    y,cb,cr = cv2.split(ycbcr)\n",
    "    \n",
    "    (n,m) = y.shape\n",
    "    k = 0\n",
    "    kk = 0\n",
    "    L = 255\n",
    "    H_array = np.zeros((256), dtype=int)\n",
    "    while k<256:\n",
    "        H_array[k] = np.count_nonzero(y==k)\n",
    "        k+=1\n",
    "    res = n*m\n",
    "    H_normalise = H_array/res\n",
    "    \n",
    "    new_list = []\n",
    "    j = 0\n",
    "    for i in range(0, len(H_normalise)):\n",
    "        j+=H_normalise[i]\n",
    "        new_list.append(j)\n",
    "    new_array = np.array(new_list)\n",
    "    sk = np.uint8(L * new_array)\n",
    "    new_y = np.zeros_like(y)\n",
    "    \n",
    "    for ii in range(0,n):\n",
    "        for jj in range(0,m):\n",
    "            new_y[ii,jj] = sk[y[ii,jj]]\n",
    "    new_ycbcr = cv2.merge([new_y,cb,cr])\n",
    "    new_rgb = cv2.cvtColor(new_ycbcr, cv2.COLOR_YUV2BGR)\n",
    "    \n",
    "    new_H_array = np.zeros((256), dtype=int)\n",
    "    while kk<256:\n",
    "        new_H_array[kk] = np.count_nonzero(new_y ==kk)\n",
    "        kk+=1\n",
    "        cv2.imwrite(save_path + \"/\" + new_filename, new_rgb)"
   ]
  },
  {
   "cell_type": "code",
   "execution_count": null,
   "id": "c917592a",
   "metadata": {},
   "outputs": [],
   "source": []
  }
 ],
 "metadata": {
  "kernelspec": {
   "display_name": "Python 3",
   "language": "python",
   "name": "python3"
  },
  "language_info": {
   "codemirror_mode": {
    "name": "ipython",
    "version": 3
   },
   "file_extension": ".py",
   "mimetype": "text/x-python",
   "name": "python",
   "nbconvert_exporter": "python",
   "pygments_lexer": "ipython3",
   "version": "3.6.13"
  }
 },
 "nbformat": 4,
 "nbformat_minor": 5
}
